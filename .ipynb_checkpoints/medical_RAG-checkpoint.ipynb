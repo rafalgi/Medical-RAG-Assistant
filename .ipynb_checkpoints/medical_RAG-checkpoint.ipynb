{
 "cells": [
  {
   "cell_type": "code",
   "execution_count": 1,
   "id": "cc7905bc-ccbc-4e18-98db-6ddc2b3064f1",
   "metadata": {},
   "outputs": [
    {
     "name": "stderr",
     "output_type": "stream",
     "text": [
      "USER_AGENT environment variable not set, consider setting it to identify your requests.\n"
     ]
    }
   ],
   "source": [
    "import bs4\n",
    "from langchain_ollama import OllamaLLM\n",
    "from langchain_huggingface.embeddings import HuggingFaceEmbeddings\n",
    "from langchain_community.vectorstores import FAISS\n",
    "from langchain_community.document_loaders import WebBaseLoader"
   ]
  },
  {
   "cell_type": "code",
   "execution_count": 12,
   "id": "494823b0-72f1-45d6-a0c4-f56ea5da7de9",
   "metadata": {},
   "outputs": [],
   "source": [
    "llm = OllamaLLM(model = \"deepseek-r1:7b\", temperature=0)\n",
    "embeding = HuggingFaceEmbeddings(model_name=\"sentence-transformers/all-mpnet-base-v2\")"
   ]
  },
  {
   "cell_type": "code",
   "execution_count": 13,
   "id": "2dbab6aa-0251-4a78-93f6-150a2a00d766",
   "metadata": {},
   "outputs": [],
   "source": [
    "web_paths = ['https://medlineplus.gov/ency/article/000033.htm',\n",
    "             'https://pmc.ncbi.nlm.nih.gov/articles/PMC10503338/',\n",
    "             'https://www.ncbi.nlm.nih.gov/books/NBK537235/',\n",
    "             'https://medicaljournalssweden.se/actadv/article/view/11592/19144',\n",
    "             'https://emedicine.medscape.com/article/769067-overview?form=fpf',\n",
    "             'https://www.mayoclinic.org/first-aid/first-aid-insect-bites/basics/art-20056593',\n",
    "             'https://www.medicalnewstoday.com/articles/174229#reactions',\n",
    "             'https://www.aafp.org/pubs/afp/issues/2022/0800/arthropod-bites-stings.html',\n",
    "             'https://wwwnc.cdc.gov/travel/page/avoid-bug-bites']\n",
    "\n",
    "loader = WebBaseLoader(\n",
    "    web_paths=web_paths,\n",
    "    bs_kwargs = dict(\n",
    "        parse_only = bs4.SoupStrainer(\n",
    "            class_=(\"post-content\", \"post-title\", \"post-header\")\n",
    "        )\n",
    "    ),\n",
    ")\n",
    "documents = loader.load()"
   ]
  },
  {
   "cell_type": "code",
   "execution_count": 4,
   "id": "e41bf521-5360-438e-9b17-6b3451a180b2",
   "metadata": {},
   "outputs": [],
   "source": [
    "from langchain_text_splitters import RecursiveCharacterTextSplitter\n",
    "\n",
    "text_splitter = RecursiveCharacterTextSplitter(chunk_size=1000,\n",
    "                                              chunk_overlap=200,\n",
    "                                             add_start_index=True)\n",
    "\n",
    "all_splits = text_splitter.split_documents(documents=documents)"
   ]
  },
  {
   "cell_type": "code",
   "execution_count": 5,
   "id": "e8e3fb8c-16af-48ad-a72c-a998c00baba6",
   "metadata": {},
   "outputs": [],
   "source": [
    "vector_store = FAISS.from_documents(all_splits, embeding)"
   ]
  },
  {
   "cell_type": "code",
   "execution_count": 14,
   "id": "1622941e-7a91-4ede-80d2-43bee24ad52d",
   "metadata": {},
   "outputs": [],
   "source": [
    "from langchain_core.prompts import ChatPromptTemplate\n",
    "template = '''\n",
    "# Role\n",
    "You are an medical AI assistant focused on Question-Answering (QA) tasks within a Retrieval-Augmented Generation (RAG) system.\n",
    "Your primary goal is to provide precise answers based on the given context or chat history.\n",
    "\n",
    "# Instruction\n",
    "Provide a concise, logical answer by organizing the selected content into coherent paragraphs with a natural flow. \n",
    "Avoid merely listing information. Include key numerical values, technical terms, jargon, and names. \n",
    "DO NOT use any outside knowledge or information that is not in the given material.\n",
    "\n",
    "# Constraint\n",
    "- Review the provided context thoroughly and extract key details related to the question.\n",
    "- Craft a precise answer based on the relevant information.\n",
    "- Keep the answer concise but logical/natural/in-depth.\n",
    "- If the retrieved context does not contain relevant information or no context is available, respond with: 'I can't find the answer to that question in the context.'\n",
    "\n",
    "**Source** (Optional)\n",
    "- Cite the source of the information as a file name with a page number or URL, omitting the source if it cannot be identified.\n",
    "- (list more if there are multiple sources)\n",
    "\n",
    "# Question\n",
    "<question>\n",
    "{question}\n",
    "</question>\n",
    "\n",
    "# Context\n",
    "<retrieved context>\n",
    "{context}\n",
    "</retrieved context>\n",
    "# Answer\n",
    "'''\n",
    "\n",
    "prompt = ChatPromptTemplate.from_template(template)\n",
    "\n"
   ]
  },
  {
   "cell_type": "code",
   "execution_count": 15,
   "id": "ec672caf-3afb-409a-a3fd-7de7084344bb",
   "metadata": {},
   "outputs": [],
   "source": [
    "from langchain.globals import set_debug , set_verbose\n",
    "\n",
    "set_debug(False)\n",
    "set_verbose(True)"
   ]
  },
  {
   "cell_type": "code",
   "execution_count": 16,
   "id": "ed30258d-21a4-46fb-8393-81eb7f0417c1",
   "metadata": {},
   "outputs": [
    {
     "name": "stdout",
     "output_type": "stream",
     "text": [
      "<think>\n",
      "Okay, so I need to figure out what lice are based on the given context. Let me start by looking at the retrieved context provided.\n",
      "\n",
      "The context is from a document with ID '1e5ae834-ee2e-4c82-b775-1392cbddb737' and it's from the NCBI Bookshelf, specifically page number 0. The copyright year isn't specified here, but it mentions that the book is distributed under CC BY-NC-ND 4.0, which allows distribution for non-commercial use with proper attribution.\n",
      "\n",
      "The content itself doesn't directly talk about lice. It's just a statement about the source and distribution terms of a book. There's no information provided on what lice are, their characteristics, or any related details.\n",
      "\n",
      "Since there's no relevant information in the context about lice, I can't extract any key facts from it. Therefore, according to the instructions, if the context doesn't contain the necessary information, I should respond that I can't find the answer based on the given material.\n",
      "</think>\n",
      "\n",
      "I can't find the answer to that question in the provided context.\n"
     ]
    }
   ],
   "source": [
    "from langchain_core.output_parsers import StrOutputParser\n",
    "from langchain.schema.runnable import RunnablePassthrough\n",
    "\n",
    "retriver = vector_store.as_retriever()\n",
    "parser = StrOutputParser()\n",
    "\n",
    "chain = (\n",
    "    {\"question\":RunnablePassthrough(), \"context\" : retriver  }\n",
    "    | prompt\n",
    "    | llm\n",
    "    | parser\n",
    ")\n",
    "\n",
    "response = chain.invoke(\"What are Lice?\")\n",
    "print(response)"
   ]
  },
  {
   "cell_type": "code",
   "execution_count": null,
   "id": "33ecbfcb-03b2-43f2-b05a-d0e9d5139963",
   "metadata": {},
   "outputs": [],
   "source": []
  },
  {
   "cell_type": "code",
   "execution_count": null,
   "id": "fc0777f9-04b2-4ae1-b8fa-e654e74297ba",
   "metadata": {},
   "outputs": [],
   "source": []
  },
  {
   "cell_type": "code",
   "execution_count": null,
   "id": "d8cb3ee9-7a18-41a7-9367-748da14331d3",
   "metadata": {},
   "outputs": [],
   "source": []
  },
  {
   "cell_type": "code",
   "execution_count": null,
   "id": "44442bc4-26b3-442f-b841-8a2431f07e08",
   "metadata": {},
   "outputs": [],
   "source": []
  },
  {
   "cell_type": "code",
   "execution_count": null,
   "id": "25ce76f9-ba95-4df6-93c5-7c5c325765d5",
   "metadata": {},
   "outputs": [],
   "source": []
  },
  {
   "cell_type": "code",
   "execution_count": null,
   "id": "a63b7db9-1010-4401-9772-663829ba4b54",
   "metadata": {},
   "outputs": [],
   "source": []
  },
  {
   "cell_type": "code",
   "execution_count": null,
   "id": "cb0411b6-c527-4ca7-8091-44c854b430a9",
   "metadata": {},
   "outputs": [],
   "source": [
    "from typing_extensions import TypedDict, List\n",
    "from langchain_core.documents import Document\n",
    "\n",
    "class State(TypedDict)\n",
    "question : str\n",
    "context : List[Document]\n"
   ]
  },
  {
   "cell_type": "code",
   "execution_count": null,
   "id": "3a5f3919-24be-4ae7-9660-d52f33205309",
   "metadata": {},
   "outputs": [],
   "source": []
  },
  {
   "cell_type": "code",
   "execution_count": null,
   "id": "2b70cfde-adcd-4832-bca8-84a9905a9a70",
   "metadata": {},
   "outputs": [],
   "source": []
  }
 ],
 "metadata": {
  "kernelspec": {
   "display_name": "Python 3 (ipykernel)",
   "language": "python",
   "name": "python3"
  },
  "language_info": {
   "codemirror_mode": {
    "name": "ipython",
    "version": 3
   },
   "file_extension": ".py",
   "mimetype": "text/x-python",
   "name": "python",
   "nbconvert_exporter": "python",
   "pygments_lexer": "ipython3",
   "version": "3.12.9"
  }
 },
 "nbformat": 4,
 "nbformat_minor": 5
}
