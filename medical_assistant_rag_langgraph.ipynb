{
 "cells": [
  {
   "cell_type": "code",
   "execution_count": 1,
   "id": "ba8c0241",
   "metadata": {},
   "outputs": [],
   "source": [
    "# imports\n",
    "from langchain_huggingface.embeddings import HuggingFaceEmbeddings\n",
    "from langchain_ollama import ChatOllama \n",
    "from IPython.display import Image, display\n",
    "\n"
   ]
  },
  {
   "cell_type": "markdown",
   "id": "e072de32",
   "metadata": {},
   "source": [
    "# Graf\n",
    "\n",
    "```\n",
    "[START]\n",
    "   ↓\n",
    "[user_input (+ image)] \n",
    "   ↓\n",
    " `query_analysis_node`\n",
    "   ↓        ↓            ↓\n",
    "[analyze_image]   [retrieval]   [llm_generation]\n",
    "   ↓                  ↓               ↑\n",
    "[retrieval]       [llm_generation]    |\n",
    "   ↓                  ↓               |\n",
    "[llm_generation] <----\n",
    "   ↓\n",
    "[generate_summary]\n",
    "   ↓\n",
    "[END]\n",
    "\n",
    "```\n",
    "\n",
    "1. Add Image processing, as a Node with will return probability of belongig to a given class with and class\n",
    "2. RAG (retrieval) \n",
    "3. LLM response\n",
    "3. Converstation Summarization \n",
    "3. Smart query routing\n",
    "\n",
    "\n"
   ]
  },
  {
   "cell_type": "code",
   "execution_count": 2,
   "id": "1c3bf9c5",
   "metadata": {},
   "outputs": [],
   "source": [
    "# add model, embedding model, vectorestore and retriever, text splitter ,  "
   ]
  },
  {
   "cell_type": "markdown",
   "id": "c1181a80",
   "metadata": {},
   "source": [
    "# LLMs"
   ]
  },
  {
   "cell_type": "code",
   "execution_count": 29,
   "id": "56947efb",
   "metadata": {},
   "outputs": [],
   "source": [
    "model = ChatOllama(model=\"llama3.2:latest\", temperature=0.1)\n",
    "embedings = HuggingFaceEmbeddings(model_name = \"sentence-transformers/all-mpnet-base-v2\")"
   ]
  },
  {
   "cell_type": "markdown",
   "id": "2856d941-ad41-4221-bb7f-06d9237e58c7",
   "metadata": {},
   "source": [
    "# Prompts"
   ]
  },
  {
   "cell_type": "code",
   "execution_count": 40,
   "id": "11dd235c-2643-4d1f-b1b7-970cdaddd416",
   "metadata": {},
   "outputs": [],
   "source": [
    "template = '''\n",
    "# Role\n",
    "You are a medical AI assistant focused on Question-Answering (QA) tasks within a Retrieval-Augmented Generation (RAG) system.\n",
    "Your primary goal is to provide precise answers based on the given context, image analysis, or chat history.\n",
    "\n",
    "# Instruction\n",
    "Provide a concise, logical answer by organizing the selected content into coherent paragraphs with a natural flow. \n",
    "Avoid merely listing information. Include key numerical values, technical terms, jargon, and names. \n",
    "DO NOT use any outside knowledge or information that is not in the given material.\n",
    "\n",
    "# Constraint\n",
    "- Review the provided context and image analysis thoroughly and extract key details related to the question.\n",
    "- Craft a precise answer based on the relevant information.\n",
    "- Keep the answer concise but logical/natural/in-depth.\n",
    "- If the retrieved context does not contain relevant information or no context is available, respond with: 'I can't find the answer to that question in the context.'\n",
    "\n",
    "**Source** (Optional)\n",
    "- Cite the source of the information as a file name with a page number or URL, omitting the source if it cannot be identified.\n",
    "- (list more if there are multiple sources)\n",
    "\n",
    "# Question\n",
    "<question>\n",
    "{question}\n",
    "</question>\n",
    "\n",
    "# Image Analysis\n",
    "<image_analysis>\n",
    "The image has been classified as: {predicted_class}\n",
    "Prediction confidence: {confidence:.2%}\n",
    "</image_analysis>\n",
    "\n",
    "# Context\n",
    "<retrieved context>\n",
    "{context}\n",
    "</retrieved context>\n",
    "\n",
    "# Answer\n",
    "'''"
   ]
  },
  {
   "cell_type": "markdown",
   "id": "4d5b982c",
   "metadata": {},
   "source": [
    "# Create Index"
   ]
  },
  {
   "cell_type": "code",
   "execution_count": 21,
   "id": "4cd50f00",
   "metadata": {},
   "outputs": [],
   "source": [
    "from langchain_text_splitters import RecursiveCharacterTextSplitter\n",
    "from langchain_community.vectorstores import FAISS\n",
    "from langchain_community.document_loaders import WebBaseLoader\n",
    "import bs4\n",
    "\n",
    "web_paths = ['https://medlineplus.gov/ency/article/000033.html',\n",
    "             'https://pmc.ncbi.nlm.nih.gov/articles/PMC10503338/',\n",
    "             'https://www.ncbi.nlm.nih.gov/books/NBK537235/',\n",
    "             'https://medicaljournalssweden.se/actadv/article/view/11592/19144',\n",
    "             'https://emedicine.medscape.com/article/769067-overview?form=fpf',\n",
    "             'https://www.mayoclinic.org/first-aid/first-aid-insect-bites/basics/art-20056593',\n",
    "             'https://www.medicalnewstoday.com/articles/174229#reactions',\n",
    "             'https://www.aafp.org/pubs/afp/issues/2022/0800/arthropod-bites-stings.html',\n",
    "             'https://wwwnc.cdc.gov/travel/page/avoid-bug-bites']\n",
    "\n",
    "loader = WebBaseLoader(\n",
    "    web_paths=web_paths,\n",
    "    bs_kwargs = dict(\n",
    "        parse_only = bs4.SoupStrainer(\n",
    "            class_=(\"post-content\", \"post-title\", \"post-header\")\n",
    "        )\n",
    "    ),\n",
    ")\n",
    "\n",
    "documents = loader.load()\n",
    "splitter = RecursiveCharacterTextSplitter(chunk_size=100,\n",
    "                                         chunk_overlap=50,\n",
    "                                         add_start_index=True)\n",
    "\n",
    "all_splits = splitter.split_documents(documents)\n",
    "\n",
    "vectorstores = FAISS.from_documents(documents=all_splits,\n",
    "                                    embedding=embedings)\n",
    "\n",
    "retriver = vectorstores.as_retriever()"
   ]
  },
  {
   "cell_type": "code",
   "execution_count": 44,
   "id": "de015862-8295-4efb-a165-40b5e3f1b91e",
   "metadata": {},
   "outputs": [],
   "source": [
    "def retrive(state):\n",
    "\n",
    "    print(\"---RETRIVE---\")\n",
    "    \n",
    "    prediction = state.get(\"image_metadata\", {})\n",
    "    question = state.get(\"question\")\n",
    "    cls = prediction.get(\"predicted_class\")\n",
    "    conf = prediction.get(\"prediction_confidences\")\n",
    "\n",
    "\n",
    "    query = f\"\"\"The user asked: \"{question}\".\n",
    "            This question relates to a medical image classified as: {cls}\"\"\"\n",
    "    \n",
    "    print(f\"Retrieval query: {query}\")\n",
    "    \n",
    "    documents = retriver.invoke(query)\n",
    "    \n",
    "    return {\n",
    "        \"retrived_docs\" : [documents]\n",
    "    }\n",
    "    "
   ]
  },
  {
   "cell_type": "markdown",
   "id": "57c2240d",
   "metadata": {},
   "source": [
    "# Image processing"
   ]
  },
  {
   "cell_type": "code",
   "execution_count": 45,
   "id": "09345190",
   "metadata": {},
   "outputs": [
    {
     "name": "stderr",
     "output_type": "stream",
     "text": [
      "WARNING:absl:Compiled the loaded model, but the compiled metrics have yet to be built. `model.compile_metrics` will be empty until you train or evaluate the model.\n"
     ]
    }
   ],
   "source": [
    "import cv2\n",
    "import numpy as np\n",
    "from tensorflow.keras.models import load_model\n",
    "\n",
    "\n",
    "model_path = r\"E:\\Deep_Learning\\Skin diseases\\best_model.h5\"\n",
    "model_cv = load_model(model_path)\n",
    "\n",
    "BATCH_SIZE = 64\n",
    "IMAGE_SIZE = 150\n",
    "channels = 3\n",
    "classes = ['Bite', 'Healthy Skin', 'Wound']\n",
    "\n",
    "def preprocess_image(image_path):\n",
    "    img = cv2.imread(image_path)\n",
    "    \n",
    "    if img is None:\n",
    "        raise ValueError(f\"Image not loaded correctly from path: {image_path}\")\n",
    "        \n",
    "    img = cv2.resize(img, (IMAGE_SIZE, IMAGE_SIZE))\n",
    "    img = img.reshape(1, IMAGE_SIZE, IMAGE_SIZE, channels)\n",
    "    img = img / 255.0\n",
    "    \n",
    "    return img\n",
    "\n",
    "\n",
    "def analyze_image_node(state):\n",
    "    print(\"---IMAGE ANALYSIS---\")\n",
    "    \n",
    "    image_path = state.get(\"image\", \"\")\n",
    "\n",
    "    if not image_path:\n",
    "        raise ValueError(\"No image path provided in state\")\n",
    "\n",
    "    # Preprocess + prediction\n",
    "    img = preprocess_image(image_path)\n",
    "    prediction = model_cv.predict(img)\n",
    "    \n",
    "    confidences = {cls: float(conf) for cls, conf in zip(classes, prediction[0])}\n",
    "    predicted_class = max(confidences, key=confidences.get)\n",
    "\n",
    "    return {\n",
    "        \"image_metadata\": {\n",
    "            \"predicted_class\": predicted_class,\n",
    "            \"prediction_confidences\": confidences\n",
    "        }\n",
    "    }\n",
    "\n"
   ]
  },
  {
   "cell_type": "markdown",
   "id": "881bbcdc",
   "metadata": {},
   "source": [
    "# Generate Response"
   ]
  },
  {
   "cell_type": "code",
   "execution_count": 46,
   "id": "37421acf",
   "metadata": {},
   "outputs": [],
   "source": [
    "from langchain_core.prompts import ChatPromptTemplate\n",
    "from langchain_core.output_parsers import StrOutputParser\n",
    "\n",
    "def generate_response(state):\n",
    "    print(\"---GENERATION OF RESPONSE---\")\n",
    "\n",
    "    \n",
    "    prediction = state.get(\"image_metadata\", {})\n",
    "    cls = prediction.get(\"predicted_class\")\n",
    "    conf = prediction.get(\"prediction_confidences\", {}).get(cls, 0)\n",
    "\n",
    "    question = state['question']\n",
    "    retrived_docs = state.get(\"retrived_docs\")\n",
    "    prompt = ChatPromptTemplate.from_template(template)\n",
    "    \n",
    "    rag_chain = prompt | model | StrOutputParser()\n",
    "    response = rag_chain.invoke({\"question\" : question , \"context\" : retrived_docs , \"predicted_class\" : cls , \"confidence\" : conf})\n",
    "    \n",
    "    return {\n",
    "        \"answer\": [response]\n",
    "    }"
   ]
  },
  {
   "cell_type": "markdown",
   "id": "fd8c9a5a",
   "metadata": {},
   "source": [
    "# Graph State"
   ]
  },
  {
   "cell_type": "code",
   "execution_count": 47,
   "id": "321b599e",
   "metadata": {},
   "outputs": [
    {
     "data": {
      "image/png": "[encoded data removed]",
      "text/plain": [
       "<IPython.core.display.Image object>"
      ]
     },
     "metadata": {},
     "output_type": "display_data"
    }
   ],
   "source": [
    "from langgraph.prebuilt import ToolNode ,tools_condition\n",
    "from langgraph.graph import StateGraph, START, END\n",
    "from langgraph.checkpoint.memory import MemorySaver\n",
    "from typing import TypedDict , Annotated\n",
    "from langchain_core.messages import AIMessage, AnyMessage, HumanMessage, SystemMessage, RemoveMessage\n",
    "from langgraph.graph.message import add_messages\n",
    "\n",
    "\n",
    "class MedicalAssistantState(TypedDict):\n",
    "    image: str\n",
    "    image_metadata: dict\n",
    "    question: str\n",
    "    answer: str\n",
    "    retrived_docs : list\n",
    "\n",
    "    \n",
    "builder = StateGraph(MedicalAssistantState)\n",
    "\n",
    "builder.add_node(\"analyze_image\", analyze_image_node,)\n",
    "builder.add_node(\"generate_response\", generate_response)\n",
    "builder.add_node(\"retrive\" , retrive)\n",
    "\n",
    "builder.add_edge(START, \"analyze_image\")\n",
    "builder.add_edge(\"analyze_image\", \"retrive\")\n",
    "builder.add_edge(\"retrive\", \"generate_response\")\n",
    "builder.add_edge(\"generate_response\", END)\n",
    "\n",
    "medical_assistant = builder.compile()\n",
    "\n",
    "display(Image(medical_assistant.get_graph().draw_mermaid_png()))"
   ]
  },
  {
   "cell_type": "code",
   "execution_count": 51,
   "id": "7ed0cdc0",
   "metadata": {},
   "outputs": [
    {
     "name": "stdout",
     "output_type": "stream",
     "text": [
      "---IMAGE ANALYSIS---\n",
      "\u001b[1m1/1\u001b[0m \u001b[32m━━━━━━━━━━━━━━━━━━━━\u001b[0m\u001b[37m\u001b[0m \u001b[1m0s\u001b[0m 40ms/step\n",
      "---RETRIVE---\n",
      "Retrieval query: The user asked: \"What happened to my hand ?\".\n",
      "            This question relates to a medical image classified as: Wound\n",
      "---GENERATION OF RESPONSE---\n",
      "{'image': 'E:\\\\Deep_Learning\\\\Skin diseases\\\\data_wbh\\\\train\\\\Wound\\\\Cut\\\\cut (2).jpg', 'image_metadata': {'predicted_class': 'Wound', 'prediction_confidences': {'Bite': 2.2537615222972818e-06, 'Healthy Skin': 0.00012671222793869674, 'Wound': 0.999871015548706}}, 'question': 'What happened to my hand ?', 'answer': [\"Based on the provided context and image analysis, I can attempt to provide a logical answer.\\n\\nGiven that the image has been classified as a Wound with a high prediction confidence of 99.99%, it is likely that your hand has sustained some form of injury or trauma resulting in this wound.\\n\\nThe retrieved context appears to be related to medical articles and licenses for distribution, but none of these sources directly address the question of what happened to your hand. However, I can suggest that you may want to consult a medical professional for an accurate diagnosis and treatment plan.\\n\\nIf you're experiencing pain or discomfort in your hand, it's essential to seek medical attention as soon as possible. A healthcare provider can assess the wound, provide guidance on proper care and treatment, and help determine the cause of the injury.\\n\\nI recommend visiting an emergency room or scheduling an appointment with a primary care physician for further evaluation and advice.\\n\\nPlease note that this answer is based solely on the provided context and image analysis, and it's always best to consult a medical professional for personalized guidance.\"], 'retrived_docs': [[Document(id='7a16117b-cf08-4c0a-a0ca-817f31fa844b', metadata={'source': 'https://www.ncbi.nlm.nih.gov/books/NBK537235/', 'start_index': 330}, page_content='used commercially. You are not required to obtain permission to distribute this article, provided'), Document(id='50dc7252-6935-454c-b9c8-9089b324a443', metadata={'source': 'https://www.ncbi.nlm.nih.gov/books/NBK537235/', 'start_index': 238}, page_content='), which permits others to distribute the work, provided that the article is not altered or used'), Document(id='c3103e94-c578-443d-a74d-e81cc8d18acb', metadata={'source': 'https://www.ncbi.nlm.nih.gov/books/NBK537235/', 'start_index': 186}, page_content='(\\nhttp://creativecommons.org/licenses/by-nc-nd/4.0/'), Document(id='8df4f64b-637d-4306-8ee8-e3039eb55e99', metadata={'source': 'https://www.ncbi.nlm.nih.gov/books/NBK537235/', 'start_index': 286}, page_content='provided that the article is not altered or used commercially. You are not required to obtain')]]}\n"
     ]
    }
   ],
   "source": [
    "img_path = r\"E:\\Deep_Learning\\Skin diseases\\data_wbh\\train\\Wound\\Cut\\cut (2).jpg\"\n",
    "\n",
    "response = medical_assistant.invoke({\"image\" : img_path , \"question\" : \"What happened to my hand ?\"})\n",
    "print(response)"
   ]
  },
  {
   "cell_type": "code",
   "execution_count": 52,
   "id": "8ece1559",
   "metadata": {},
   "outputs": [
    {
     "name": "stdout",
     "output_type": "stream",
     "text": [
      "Based on the provided context and image analysis, I can attempt to provide a logical answer.\n",
      "\n",
      "Given that the image has been classified as a Wound with a high prediction confidence of 99.99%, it is likely that your hand has sustained some form of injury or trauma resulting in this wound.\n",
      "\n",
      "The retrieved context appears to be related to medical articles and licenses for distribution, but none of these sources directly address the question of what happened to your hand. However, I can suggest that you may want to consult a medical professional for an accurate diagnosis and treatment plan.\n",
      "\n",
      "If you're experiencing pain or discomfort in your hand, it's essential to seek medical attention as soon as possible. A healthcare provider can assess the wound, provide guidance on proper care and treatment, and help determine the cause of the injury.\n",
      "\n",
      "I recommend visiting an emergency room or scheduling an appointment with a primary care physician for further evaluation and advice.\n",
      "\n",
      "Please note that this answer is based solely on the provided context and image analysis, and it's always best to consult a medical professional for personalized guidance.\n"
     ]
    }
   ],
   "source": [
    "for m in response['answer']:\n",
    "    print(m) "
   ]
  },
  {
   "cell_type": "code",
   "execution_count": 53,
   "id": "6355ff88",
   "metadata": {},
   "outputs": [
    {
     "name": "stdout",
     "output_type": "stream",
     "text": [
      "{'predicted_class': 'Wound', 'prediction_confidences': {'Bite': 2.2537615222972818e-06, 'Healthy Skin': 0.00012671222793869674, 'Wound': 0.999871015548706}}\n"
     ]
    }
   ],
   "source": [
    "print(response['image_metadata'])"
   ]
  },
  {
   "cell_type": "code",
   "execution_count": null,
   "id": "2e69e8b7-9b31-48bf-a98d-720bdb869429",
   "metadata": {},
   "outputs": [],
   "source": []
  }
 ],
 "metadata": {
  "kernelspec": {
   "display_name": "Python 3 (ipykernel)",
   "language": "python",
   "name": "python3"
  },
  "language_info": {
   "codemirror_mode": {
    "name": "ipython",
    "version": 3
   },
   "file_extension": ".py",
   "mimetype": "text/x-python",
   "name": "python",
   "nbconvert_exporter": "python",
   "pygments_lexer": "ipython3",
   "version": "3.12.10"
  }
 },
 "nbformat": 4,
 "nbformat_minor": 5
}
